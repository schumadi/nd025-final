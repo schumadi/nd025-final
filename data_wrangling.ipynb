{
 "cells": [
  {
   "cell_type": "markdown",
   "metadata": {},
   "source": [
    "# Data Wrangling Notebook\n",
    "1. Load data\n",
    "2. Evaluate\n",
    "3. Tweak\n",
    "5. Store"
   ]
  },
  {
   "cell_type": "markdown",
   "metadata": {},
   "source": [
    "## Loading the data"
   ]
  },
  {
   "cell_type": "code",
   "execution_count": 136,
   "metadata": {},
   "outputs": [],
   "source": [
    "import glob\n",
    "import os\n",
    "import pandas as pd\n",
    "import numpy as np\n",
    "import matplotlib\n",
    "import seaborn as sns\n",
    "   \n",
    "df = pd.concat(map(lambda file: pd.read_csv(file, sep=';'), glob.glob(os.path.join('', \"./data/*.txt\"))))"
   ]
  },
  {
   "cell_type": "code",
   "execution_count": 137,
   "metadata": {},
   "outputs": [
    {
     "data": {
      "text/html": [
       "<div>\n",
       "<style scoped>\n",
       "    .dataframe tbody tr th:only-of-type {\n",
       "        vertical-align: middle;\n",
       "    }\n",
       "\n",
       "    .dataframe tbody tr th {\n",
       "        vertical-align: top;\n",
       "    }\n",
       "\n",
       "    .dataframe thead th {\n",
       "        text-align: right;\n",
       "    }\n",
       "</style>\n",
       "<table border=\"1\" class=\"dataframe\">\n",
       "  <thead>\n",
       "    <tr style=\"text-align: right;\">\n",
       "      <th></th>\n",
       "      <th>STATIONS_ID</th>\n",
       "      <th>MESS_DATUM</th>\n",
       "      <th>QN_3</th>\n",
       "      <th>FX</th>\n",
       "      <th>FM</th>\n",
       "      <th>QN_4</th>\n",
       "      <th>RSK</th>\n",
       "      <th>RSKF</th>\n",
       "      <th>SDK</th>\n",
       "      <th>SHK_TAG</th>\n",
       "      <th>NM</th>\n",
       "      <th>VPM</th>\n",
       "      <th>PM</th>\n",
       "      <th>TMK</th>\n",
       "      <th>UPM</th>\n",
       "      <th>TXK</th>\n",
       "      <th>TNK</th>\n",
       "      <th>TGK</th>\n",
       "      <th>eor</th>\n",
       "    </tr>\n",
       "  </thead>\n",
       "  <tbody>\n",
       "    <tr>\n",
       "      <th>10973</th>\n",
       "      <td>433</td>\n",
       "      <td>19780116</td>\n",
       "      <td>5</td>\n",
       "      <td>10.3</td>\n",
       "      <td>4.6</td>\n",
       "      <td>5</td>\n",
       "      <td>0.0</td>\n",
       "      <td>0</td>\n",
       "      <td>5.5</td>\n",
       "      <td>0</td>\n",
       "      <td>0.3</td>\n",
       "      <td>4.6</td>\n",
       "      <td>1004.6</td>\n",
       "      <td>0.7</td>\n",
       "      <td>72.0</td>\n",
       "      <td>4.0</td>\n",
       "      <td>-2.1</td>\n",
       "      <td>-4.4</td>\n",
       "      <td>eor</td>\n",
       "    </tr>\n",
       "    <tr>\n",
       "      <th>127</th>\n",
       "      <td>402</td>\n",
       "      <td>18760507</td>\n",
       "      <td>-999</td>\n",
       "      <td>-999.0</td>\n",
       "      <td>-999.0</td>\n",
       "      <td>5</td>\n",
       "      <td>0.0</td>\n",
       "      <td>0</td>\n",
       "      <td>-999.0</td>\n",
       "      <td>0</td>\n",
       "      <td>5.3</td>\n",
       "      <td>-999.0</td>\n",
       "      <td>1020.6</td>\n",
       "      <td>5.8</td>\n",
       "      <td>-999.0</td>\n",
       "      <td>9.5</td>\n",
       "      <td>3.8</td>\n",
       "      <td>-999.0</td>\n",
       "      <td>eor</td>\n",
       "    </tr>\n",
       "    <tr>\n",
       "      <th>390</th>\n",
       "      <td>400</td>\n",
       "      <td>19620126</td>\n",
       "      <td>-999</td>\n",
       "      <td>-999.0</td>\n",
       "      <td>-999.0</td>\n",
       "      <td>5</td>\n",
       "      <td>0.3</td>\n",
       "      <td>1</td>\n",
       "      <td>0.1</td>\n",
       "      <td>0</td>\n",
       "      <td>7.2</td>\n",
       "      <td>6.8</td>\n",
       "      <td>-999.0</td>\n",
       "      <td>3.2</td>\n",
       "      <td>88.0</td>\n",
       "      <td>5.8</td>\n",
       "      <td>1.9</td>\n",
       "      <td>0.4</td>\n",
       "      <td>eor</td>\n",
       "    </tr>\n",
       "    <tr>\n",
       "      <th>5013</th>\n",
       "      <td>400</td>\n",
       "      <td>19740923</td>\n",
       "      <td>-999</td>\n",
       "      <td>-999.0</td>\n",
       "      <td>-999.0</td>\n",
       "      <td>5</td>\n",
       "      <td>0.5</td>\n",
       "      <td>1</td>\n",
       "      <td>7.1</td>\n",
       "      <td>-999</td>\n",
       "      <td>3.8</td>\n",
       "      <td>9.2</td>\n",
       "      <td>-999.0</td>\n",
       "      <td>11.1</td>\n",
       "      <td>71.0</td>\n",
       "      <td>16.9</td>\n",
       "      <td>7.2</td>\n",
       "      <td>5.3</td>\n",
       "      <td>eor</td>\n",
       "    </tr>\n",
       "    <tr>\n",
       "      <th>11363</th>\n",
       "      <td>403</td>\n",
       "      <td>19810210</td>\n",
       "      <td>-999</td>\n",
       "      <td>-999.0</td>\n",
       "      <td>-999.0</td>\n",
       "      <td>10</td>\n",
       "      <td>3.1</td>\n",
       "      <td>8</td>\n",
       "      <td>0.2</td>\n",
       "      <td>0</td>\n",
       "      <td>8.0</td>\n",
       "      <td>6.9</td>\n",
       "      <td>999.1</td>\n",
       "      <td>4.6</td>\n",
       "      <td>78.0</td>\n",
       "      <td>8.1</td>\n",
       "      <td>2.8</td>\n",
       "      <td>3.7</td>\n",
       "      <td>eor</td>\n",
       "    </tr>\n",
       "    <tr>\n",
       "      <th>25326</th>\n",
       "      <td>402</td>\n",
       "      <td>19451111</td>\n",
       "      <td>-999</td>\n",
       "      <td>-999.0</td>\n",
       "      <td>-999.0</td>\n",
       "      <td>5</td>\n",
       "      <td>0.5</td>\n",
       "      <td>1</td>\n",
       "      <td>-999.0</td>\n",
       "      <td>0</td>\n",
       "      <td>8.0</td>\n",
       "      <td>7.6</td>\n",
       "      <td>999.6</td>\n",
       "      <td>3.0</td>\n",
       "      <td>100.0</td>\n",
       "      <td>5.4</td>\n",
       "      <td>2.4</td>\n",
       "      <td>2.1</td>\n",
       "      <td>eor</td>\n",
       "    </tr>\n",
       "    <tr>\n",
       "      <th>1266</th>\n",
       "      <td>417</td>\n",
       "      <td>19390620</td>\n",
       "      <td>-999</td>\n",
       "      <td>-999.0</td>\n",
       "      <td>-999.0</td>\n",
       "      <td>5</td>\n",
       "      <td>9.5</td>\n",
       "      <td>1</td>\n",
       "      <td>3.4</td>\n",
       "      <td>0</td>\n",
       "      <td>6.7</td>\n",
       "      <td>20.0</td>\n",
       "      <td>-999.0</td>\n",
       "      <td>19.5</td>\n",
       "      <td>88.0</td>\n",
       "      <td>21.7</td>\n",
       "      <td>15.4</td>\n",
       "      <td>-999.0</td>\n",
       "      <td>eor</td>\n",
       "    </tr>\n",
       "    <tr>\n",
       "      <th>15443</th>\n",
       "      <td>403</td>\n",
       "      <td>19920413</td>\n",
       "      <td>-999</td>\n",
       "      <td>-999.0</td>\n",
       "      <td>-999.0</td>\n",
       "      <td>10</td>\n",
       "      <td>1.4</td>\n",
       "      <td>6</td>\n",
       "      <td>5.5</td>\n",
       "      <td>0</td>\n",
       "      <td>5.0</td>\n",
       "      <td>6.8</td>\n",
       "      <td>1003.3</td>\n",
       "      <td>9.0</td>\n",
       "      <td>61.0</td>\n",
       "      <td>13.5</td>\n",
       "      <td>7.1</td>\n",
       "      <td>5.0</td>\n",
       "      <td>eor</td>\n",
       "    </tr>\n",
       "    <tr>\n",
       "      <th>22167</th>\n",
       "      <td>403</td>\n",
       "      <td>20100910</td>\n",
       "      <td>-999</td>\n",
       "      <td>-999.0</td>\n",
       "      <td>-999.0</td>\n",
       "      <td>10</td>\n",
       "      <td>0.3</td>\n",
       "      <td>6</td>\n",
       "      <td>5.1</td>\n",
       "      <td>0</td>\n",
       "      <td>4.9</td>\n",
       "      <td>14.3</td>\n",
       "      <td>1010.4</td>\n",
       "      <td>15.4</td>\n",
       "      <td>84.0</td>\n",
       "      <td>20.4</td>\n",
       "      <td>11.0</td>\n",
       "      <td>7.3</td>\n",
       "      <td>eor</td>\n",
       "    </tr>\n",
       "    <tr>\n",
       "      <th>5566</th>\n",
       "      <td>403</td>\n",
       "      <td>19650329</td>\n",
       "      <td>-999</td>\n",
       "      <td>-999.0</td>\n",
       "      <td>-999.0</td>\n",
       "      <td>5</td>\n",
       "      <td>0.0</td>\n",
       "      <td>0</td>\n",
       "      <td>9.6</td>\n",
       "      <td>0</td>\n",
       "      <td>2.3</td>\n",
       "      <td>9.6</td>\n",
       "      <td>1023.1</td>\n",
       "      <td>10.0</td>\n",
       "      <td>78.0</td>\n",
       "      <td>14.5</td>\n",
       "      <td>6.7</td>\n",
       "      <td>3.8</td>\n",
       "      <td>eor</td>\n",
       "    </tr>\n",
       "  </tbody>\n",
       "</table>\n",
       "</div>"
      ],
      "text/plain": [
       "       STATIONS_ID  MESS_DATUM  QN_3     FX     FM  QN_4  RSK  RSKF    SDK  \\\n",
       "10973          433    19780116     5   10.3    4.6     5  0.0     0    5.5   \n",
       "127            402    18760507  -999 -999.0 -999.0     5  0.0     0 -999.0   \n",
       "390            400    19620126  -999 -999.0 -999.0     5  0.3     1    0.1   \n",
       "5013           400    19740923  -999 -999.0 -999.0     5  0.5     1    7.1   \n",
       "11363          403    19810210  -999 -999.0 -999.0    10  3.1     8    0.2   \n",
       "25326          402    19451111  -999 -999.0 -999.0     5  0.5     1 -999.0   \n",
       "1266           417    19390620  -999 -999.0 -999.0     5  9.5     1    3.4   \n",
       "15443          403    19920413  -999 -999.0 -999.0    10  1.4     6    5.5   \n",
       "22167          403    20100910  -999 -999.0 -999.0    10  0.3     6    5.1   \n",
       "5566           403    19650329  -999 -999.0 -999.0     5  0.0     0    9.6   \n",
       "\n",
       "       SHK_TAG   NM    VPM      PM   TMK    UPM   TXK   TNK    TGK  eor  \n",
       "10973        0  0.3    4.6  1004.6   0.7   72.0   4.0  -2.1   -4.4  eor  \n",
       "127          0  5.3 -999.0  1020.6   5.8 -999.0   9.5   3.8 -999.0  eor  \n",
       "390          0  7.2    6.8  -999.0   3.2   88.0   5.8   1.9    0.4  eor  \n",
       "5013      -999  3.8    9.2  -999.0  11.1   71.0  16.9   7.2    5.3  eor  \n",
       "11363        0  8.0    6.9   999.1   4.6   78.0   8.1   2.8    3.7  eor  \n",
       "25326        0  8.0    7.6   999.6   3.0  100.0   5.4   2.4    2.1  eor  \n",
       "1266         0  6.7   20.0  -999.0  19.5   88.0  21.7  15.4 -999.0  eor  \n",
       "15443        0  5.0    6.8  1003.3   9.0   61.0  13.5   7.1    5.0  eor  \n",
       "22167        0  4.9   14.3  1010.4  15.4   84.0  20.4  11.0    7.3  eor  \n",
       "5566         0  2.3    9.6  1023.1  10.0   78.0  14.5   6.7    3.8  eor  "
      ]
     },
     "execution_count": 137,
     "metadata": {},
     "output_type": "execute_result"
    }
   ],
   "source": [
    "# Let's see what we got\n",
    "# Remove blanks from column names first\n",
    "df.columns = df.columns.str.strip()\n",
    "df.sample(10)"
   ]
  },
  {
   "cell_type": "markdown",
   "metadata": {},
   "source": [
    "| Column | Meaning | Unit |\n",
    "| --- | --- | --- |\n",
    "| STATIONS_ID | station id ||\n",
    "| MESS_DATUM | date | yyyymmdd |\n",
    "| QN_3 | quality level of next columns | coding see paragraph \"Quality information\" |\n",
    "| FX | daily maximum of wind gust | m/s |\n",
    "| FM | daily mean of wind speed | m/s |\n",
    "| QN_4 | quality level of next columns | coding see paragraph \"Quality information\" |\n",
    "| RSK | daily precipitation height | mm |\n",
    "| RSKF | precipitation form ||\n",
    "||no precipitation (conventional or automatic measurement), relates to WMO code 10 | 0 |\n",
    "|| only rain (before 1979) | 1 |\n",
    "||unknown form of recorded precipitation | 4 |\n",
    "|| only rain; only liquid precipitation at automatic stations, relates to WMO code 11 | 6 |\n",
    "|| only snow; only solid precipitation at automatic stations, relates to WMO code 12 | 7 |\n",
    "|| rain and snow (and/or \"Schneeregen\"); liquid and solid precipitation at automatic stations, relates to WMO code 13 | 8 |\n",
    "|| error or missing value or no automatic determination of precipitation form, relates to WMO code 15 | 9 |\n",
    "| SDK | daily sunshine duration | h |\n",
    "| SHK_TAG | daily snow depth | cm |\n",
    "| NM | daily mean of cloud cover | 1/8 |\n",
    "| VPM | daily mean of vapor pressure | hPa |\n",
    "| PM | daily mean of pressure | hPa |\n",
    "| TMK | daily mean of temperature | °C |\n",
    "| UPM | daily mean of relative humidity | % |\n",
    "| TXK | daily maximum of temperature at 2m height | °C |\n",
    "| TNK | daily minimum of temperature at 2m height | °C |\n",
    "| TGK | daily minimum of air temperature at 5cm above ground | °C |\n",
    "| eor | End of data record |"
   ]
  },
  {
   "cell_type": "markdown",
   "metadata": {},
   "source": [
    "Missing values are denoted by -999."
   ]
  },
  {
   "cell_type": "code",
   "execution_count": 138,
   "metadata": {},
   "outputs": [
    {
     "name": "stdout",
     "output_type": "stream",
     "text": [
      "<class 'pandas.core.frame.DataFrame'>\n",
      "Int64Index: 226531 entries, 0 to 3287\n",
      "Data columns (total 19 columns):\n",
      " #   Column       Non-Null Count   Dtype  \n",
      "---  ------       --------------   -----  \n",
      " 0   STATIONS_ID  226531 non-null  int64  \n",
      " 1   MESS_DATUM   226531 non-null  int64  \n",
      " 2   QN_3         226531 non-null  int64  \n",
      " 3   FX           226531 non-null  float64\n",
      " 4   FM           226531 non-null  float64\n",
      " 5   QN_4         226531 non-null  int64  \n",
      " 6   RSK          226531 non-null  float64\n",
      " 7   RSKF         226531 non-null  int64  \n",
      " 8   SDK          226531 non-null  float64\n",
      " 9   SHK_TAG      226531 non-null  int64  \n",
      " 10  NM           226531 non-null  float64\n",
      " 11  VPM          226531 non-null  float64\n",
      " 12  PM           226531 non-null  float64\n",
      " 13  TMK          226531 non-null  float64\n",
      " 14  UPM          226531 non-null  float64\n",
      " 15  TXK          226531 non-null  float64\n",
      " 16  TNK          226531 non-null  float64\n",
      " 17  TGK          226531 non-null  float64\n",
      " 18  eor          226531 non-null  object \n",
      "dtypes: float64(12), int64(6), object(1)\n",
      "memory usage: 34.6+ MB\n"
     ]
    }
   ],
   "source": [
    "# What dtypes did we get?\n",
    "df.info()"
   ]
  },
  {
   "cell_type": "markdown",
   "metadata": {},
   "source": [
    "All values are int64 or float64 except *eor*, but *eor* can be dropped because it's just the end of record marker.  \n",
    "*QN_3*, *QN_4* and RSKF are categorical values."
   ]
  },
  {
   "cell_type": "code",
   "execution_count": 139,
   "metadata": {},
   "outputs": [],
   "source": [
    "# Mapping of months to the season they belong to\n",
    "mapping = {1: 'Winter', 2: 'Winter', 3: 'Spring', 4: 'Spring', 5: 'Spring', 6: 'Summer',\n",
    "           7: 'Summer', 8: 'Summer', 9: 'Autumn', 10: 'Autumn', 11: 'Autumn', 12: 'Winter'}"
   ]
  },
  {
   "cell_type": "code",
   "execution_count": 140,
   "metadata": {},
   "outputs": [],
   "source": [
    "clean=(\n",
    "    df\n",
    "    .assign(MESS_DATUM = pd.to_datetime(df.MESS_DATUM, format='%Y%m%d')) # Convert to datetime\n",
    "    .assign(MONTH=lambda df_: df_.MESS_DATUM.dt.month) # Extract month\n",
    "    .assign(SEASON=lambda df_: df_.MONTH.map(lambda x: mapping[x])) # Map month to season\n",
    "    .assign(MONTH=lambda df_:df_.MONTH.astype('category')) # It's a categorical \n",
    "    .assign(RSKF=lambda df_:df_.RSKF.astype('category')) # It's a categorical \n",
    "    .assign(SEASON=lambda df_:df_.SEASON.astype('category')) # It's a categorical \n",
    "    .drop('eor', axis=1) # End Of Record is not needed\n",
    "    .drop('STATIONS_ID', axis=1) # The stations id is not needed\n",
    "    .drop('QN_3', axis=1) # QN_3 is quality level. It does not contain information useful for classification\n",
    "    .drop('QN_4', axis=1) # QN_4 is quality level. It does not contain information useful for classification\n",
    "    .replace(-999, np.nan) # Missing values are encoded as -999\n",
    "    .sort_values(by='MESS_DATUM') # Sort by timestamp\n",
    "    .reset_index(drop=True)\n",
    ")"
   ]
  },
  {
   "cell_type": "markdown",
   "metadata": {},
   "source": [
    "It usually doesn't make much sense to have features that have too many missing values. Let's see which columns have more than 70% missing values here."
   ]
  },
  {
   "cell_type": "code",
   "execution_count": 141,
   "metadata": {},
   "outputs": [
    {
     "data": {
      "text/plain": [
       "Index(['FX', 'FM'], dtype='object')"
      ]
     },
     "execution_count": 141,
     "metadata": {},
     "output_type": "execute_result"
    }
   ],
   "source": [
    "clean.columns[clean.isna().mean() > 0.7]"
   ]
  },
  {
   "cell_type": "markdown",
   "metadata": {},
   "source": [
    "FX and FM are wind speed measurements that do not have much value for us. Temperatures, precipitation etc. are more revevant for us. Therefore we drop those columns. "
   ]
  },
  {
   "cell_type": "code",
   "execution_count": 142,
   "metadata": {},
   "outputs": [],
   "source": [
    "# Drop columns with more than 70 % nan values\n",
    "clean = clean.drop(clean.columns[clean.isna().mean() > 0.7], axis=1)"
   ]
  },
  {
   "cell_type": "code",
   "execution_count": 143,
   "metadata": {},
   "outputs": [
    {
     "name": "stdout",
     "output_type": "stream",
     "text": [
      "<class 'pandas.core.frame.DataFrame'>\n",
      "RangeIndex: 226531 entries, 0 to 226530\n",
      "Data columns (total 15 columns):\n",
      " #   Column      Non-Null Count   Dtype         \n",
      "---  ------      --------------   -----         \n",
      " 0   MESS_DATUM  226531 non-null  datetime64[ns]\n",
      " 1   RSK         207470 non-null  float64       \n",
      " 2   RSKF        203806 non-null  category      \n",
      " 3   SDK         90154 non-null   float64       \n",
      " 4   SHK_TAG     179935 non-null  float64       \n",
      " 5   NM          180768 non-null  float64       \n",
      " 6   VPM         206736 non-null  float64       \n",
      " 7   PM          126689 non-null  float64       \n",
      " 8   TMK         225696 non-null  float64       \n",
      " 9   UPM         206713 non-null  float64       \n",
      " 10  TXK         225845 non-null  float64       \n",
      " 11  TNK         225844 non-null  float64       \n",
      " 12  TGK         184211 non-null  float64       \n",
      " 13  MONTH       226531 non-null  category      \n",
      " 14  SEASON      226531 non-null  category      \n",
      "dtypes: category(3), datetime64[ns](1), float64(11)\n",
      "memory usage: 21.4 MB\n"
     ]
    }
   ],
   "source": [
    "clean.info()"
   ]
  },
  {
   "cell_type": "markdown",
   "metadata": {},
   "source": [
    "The dtypes are ok now. The number of columns is down from 19 to 15. Last thing to look at are the remaining missing values."
   ]
  },
  {
   "cell_type": "code",
   "execution_count": 144,
   "metadata": {},
   "outputs": [
    {
     "data": {
      "text/plain": [
       "MESS_DATUM         0\n",
       "RSK            19061\n",
       "RSKF           22725\n",
       "SDK           136377\n",
       "SHK_TAG        46596\n",
       "NM             45763\n",
       "VPM            19795\n",
       "PM             99842\n",
       "TMK              835\n",
       "UPM            19818\n",
       "TXK              686\n",
       "TNK              687\n",
       "TGK            42320\n",
       "MONTH              0\n",
       "SEASON             0\n",
       "dtype: int64"
      ]
     },
     "execution_count": 144,
     "metadata": {},
     "output_type": "execute_result"
    }
   ],
   "source": [
    "clean.isna().sum()"
   ]
  },
  {
   "cell_type": "markdown",
   "metadata": {},
   "source": [
    "There are still many NaN values after removing the columns with more than 70% missing values. The rows with these values could be dropped or values could be imputed. A third option can be that the classifier can cope with missing values. We'll use the *lightgbm* classifier. It's documentation says:\n",
    "\n",
    "    Missing Value Handle:    \n",
    "    * LightGBM enables the missing value handle by default. Disable it by setting use_missing=false.\n",
    "    * LightGBM uses NA (NaN) to represent missing values by default. Change it to use zero by setting zero_as_missing=true.\n",
    "    * When zero_as_missing=false (default), the unrecorded values in sparse matrices (and LightSVM) are treated as zeros.\n",
    "    * When zero_as_missing=true, NA and zeros (including unrecorded values in sparse matrices (and LightSVM)) are treated as missing.\n",
    "\n",
    "According to the documentation we can leave it to the classifier to deal with the remaining NaN values. That's what we will do."
   ]
  },
  {
   "cell_type": "code",
   "execution_count": 145,
   "metadata": {},
   "outputs": [
    {
     "data": {
      "text/html": [
       "<div>\n",
       "<style scoped>\n",
       "    .dataframe tbody tr th:only-of-type {\n",
       "        vertical-align: middle;\n",
       "    }\n",
       "\n",
       "    .dataframe tbody tr th {\n",
       "        vertical-align: top;\n",
       "    }\n",
       "\n",
       "    .dataframe thead th {\n",
       "        text-align: right;\n",
       "    }\n",
       "</style>\n",
       "<table border=\"1\" class=\"dataframe\">\n",
       "  <thead>\n",
       "    <tr style=\"text-align: right;\">\n",
       "      <th></th>\n",
       "      <th>RSK</th>\n",
       "      <th>SDK</th>\n",
       "      <th>SHK_TAG</th>\n",
       "      <th>NM</th>\n",
       "      <th>VPM</th>\n",
       "      <th>PM</th>\n",
       "      <th>TMK</th>\n",
       "      <th>UPM</th>\n",
       "      <th>TXK</th>\n",
       "      <th>TNK</th>\n",
       "      <th>TGK</th>\n",
       "    </tr>\n",
       "  </thead>\n",
       "  <tbody>\n",
       "    <tr>\n",
       "      <th>count</th>\n",
       "      <td>207470.000000</td>\n",
       "      <td>90154.000000</td>\n",
       "      <td>179935.000000</td>\n",
       "      <td>180768.000000</td>\n",
       "      <td>206736.000000</td>\n",
       "      <td>126689.000000</td>\n",
       "      <td>225696.000000</td>\n",
       "      <td>206713.000000</td>\n",
       "      <td>225845.000000</td>\n",
       "      <td>225844.000000</td>\n",
       "      <td>184211.000000</td>\n",
       "    </tr>\n",
       "    <tr>\n",
       "      <th>mean</th>\n",
       "      <td>1.585282</td>\n",
       "      <td>4.629509</td>\n",
       "      <td>0.643549</td>\n",
       "      <td>5.269477</td>\n",
       "      <td>9.517855</td>\n",
       "      <td>1008.859332</td>\n",
       "      <td>9.436888</td>\n",
       "      <td>75.556749</td>\n",
       "      <td>13.441997</td>\n",
       "      <td>5.515502</td>\n",
       "      <td>3.768915</td>\n",
       "    </tr>\n",
       "    <tr>\n",
       "      <th>std</th>\n",
       "      <td>3.850532</td>\n",
       "      <td>4.396419</td>\n",
       "      <td>2.925902</td>\n",
       "      <td>2.325513</td>\n",
       "      <td>4.054038</td>\n",
       "      <td>9.283759</td>\n",
       "      <td>7.835416</td>\n",
       "      <td>13.104653</td>\n",
       "      <td>9.046761</td>\n",
       "      <td>7.016573</td>\n",
       "      <td>7.019797</td>\n",
       "    </tr>\n",
       "    <tr>\n",
       "      <th>min</th>\n",
       "      <td>0.000000</td>\n",
       "      <td>0.000000</td>\n",
       "      <td>0.000000</td>\n",
       "      <td>0.000000</td>\n",
       "      <td>0.900000</td>\n",
       "      <td>957.000000</td>\n",
       "      <td>-22.600000</td>\n",
       "      <td>19.000000</td>\n",
       "      <td>-18.000000</td>\n",
       "      <td>-26.800000</td>\n",
       "      <td>-33.400000</td>\n",
       "    </tr>\n",
       "    <tr>\n",
       "      <th>25%</th>\n",
       "      <td>0.000000</td>\n",
       "      <td>0.300000</td>\n",
       "      <td>0.000000</td>\n",
       "      <td>3.700000</td>\n",
       "      <td>6.300000</td>\n",
       "      <td>1003.100000</td>\n",
       "      <td>3.500000</td>\n",
       "      <td>67.000000</td>\n",
       "      <td>6.300000</td>\n",
       "      <td>0.500000</td>\n",
       "      <td>-0.900000</td>\n",
       "    </tr>\n",
       "    <tr>\n",
       "      <th>50%</th>\n",
       "      <td>0.000000</td>\n",
       "      <td>3.600000</td>\n",
       "      <td>0.000000</td>\n",
       "      <td>5.700000</td>\n",
       "      <td>8.900000</td>\n",
       "      <td>1009.100000</td>\n",
       "      <td>9.600000</td>\n",
       "      <td>77.000000</td>\n",
       "      <td>13.600000</td>\n",
       "      <td>5.600000</td>\n",
       "      <td>3.900000</td>\n",
       "    </tr>\n",
       "    <tr>\n",
       "      <th>75%</th>\n",
       "      <td>1.500000</td>\n",
       "      <td>7.900000</td>\n",
       "      <td>0.000000</td>\n",
       "      <td>7.300000</td>\n",
       "      <td>12.500000</td>\n",
       "      <td>1014.800000</td>\n",
       "      <td>15.600000</td>\n",
       "      <td>86.000000</td>\n",
       "      <td>20.600000</td>\n",
       "      <td>11.100000</td>\n",
       "      <td>9.200000</td>\n",
       "    </tr>\n",
       "    <tr>\n",
       "      <th>max</th>\n",
       "      <td>196.900000</td>\n",
       "      <td>16.500000</td>\n",
       "      <td>63.000000</td>\n",
       "      <td>8.000000</td>\n",
       "      <td>25.400000</td>\n",
       "      <td>1048.700000</td>\n",
       "      <td>31.100000</td>\n",
       "      <td>100.000000</td>\n",
       "      <td>38.600000</td>\n",
       "      <td>24.500000</td>\n",
       "      <td>23.000000</td>\n",
       "    </tr>\n",
       "  </tbody>\n",
       "</table>\n",
       "</div>"
      ],
      "text/plain": [
       "                 RSK           SDK        SHK_TAG             NM  \\\n",
       "count  207470.000000  90154.000000  179935.000000  180768.000000   \n",
       "mean        1.585282      4.629509       0.643549       5.269477   \n",
       "std         3.850532      4.396419       2.925902       2.325513   \n",
       "min         0.000000      0.000000       0.000000       0.000000   \n",
       "25%         0.000000      0.300000       0.000000       3.700000   \n",
       "50%         0.000000      3.600000       0.000000       5.700000   \n",
       "75%         1.500000      7.900000       0.000000       7.300000   \n",
       "max       196.900000     16.500000      63.000000       8.000000   \n",
       "\n",
       "                 VPM             PM            TMK            UPM  \\\n",
       "count  206736.000000  126689.000000  225696.000000  206713.000000   \n",
       "mean        9.517855    1008.859332       9.436888      75.556749   \n",
       "std         4.054038       9.283759       7.835416      13.104653   \n",
       "min         0.900000     957.000000     -22.600000      19.000000   \n",
       "25%         6.300000    1003.100000       3.500000      67.000000   \n",
       "50%         8.900000    1009.100000       9.600000      77.000000   \n",
       "75%        12.500000    1014.800000      15.600000      86.000000   \n",
       "max        25.400000    1048.700000      31.100000     100.000000   \n",
       "\n",
       "                 TXK            TNK            TGK  \n",
       "count  225845.000000  225844.000000  184211.000000  \n",
       "mean       13.441997       5.515502       3.768915  \n",
       "std         9.046761       7.016573       7.019797  \n",
       "min       -18.000000     -26.800000     -33.400000  \n",
       "25%         6.300000       0.500000      -0.900000  \n",
       "50%        13.600000       5.600000       3.900000  \n",
       "75%        20.600000      11.100000       9.200000  \n",
       "max        38.600000      24.500000      23.000000  "
      ]
     },
     "execution_count": 145,
     "metadata": {},
     "output_type": "execute_result"
    }
   ],
   "source": [
    "clean.describe()"
   ]
  },
  {
   "cell_type": "code",
   "execution_count": 146,
   "metadata": {},
   "outputs": [
    {
     "data": {
      "image/png": "[encoded data removed]",
      "text/plain": [
       "<Figure size 640x480 with 2 Axes>"
      ]
     },
     "metadata": {},
     "output_type": "display_data"
    }
   ],
   "source": [
    "# Compute correlation matrix\n",
    "corr_df = clean.corr()\n",
    "# Reduce to the lower triangle\n",
    "df_lt = corr_df.where(np.tril(np.ones(corr_df.shape)).astype(bool))\n",
    "# Display as a heatmap\n",
    "sns.heatmap(df_lt, annot=True, annot_kws={\"size\": 7}, fmt='.2f', vmin=-1, vmax=1, linewidths=.5, cmap=\"YlGnBu\");"
   ]
  },
  {
   "cell_type": "markdown",
   "metadata": {},
   "source": [
    "We see that there is a high correlation between min, max and average temparatures what is quite obvious. \\\n",
    "The sunshine duration (SDK), mean cloud cover (NM) and mean relative humidity (UPM) have negative correlation."
   ]
  },
  {
   "cell_type": "code",
   "execution_count": 147,
   "metadata": {},
   "outputs": [
    {
     "data": {
      "image/png": "[encoded data removed]",
      "text/plain": [
       "<Figure size 1200x1500 with 12 Axes>"
      ]
     },
     "metadata": {},
     "output_type": "display_data"
    }
   ],
   "source": [
    "clean.hist(figsize=(12, 15), bins=50, xlabelsize=8, ylabelsize=8);"
   ]
  },
  {
   "cell_type": "code",
   "execution_count": 148,
   "metadata": {},
   "outputs": [],
   "source": [
    "# Takes about 18 minutes on my computer\n",
    "# The pairplot will show \n",
    "# sns.pairplot(clean,hue='SEASON',height=3, vars=['RSK', 'SDK', 'SHK_TAG', 'NM', 'VPM', 'PM', 'TMK', 'UPM', 'TXK', 'TNK', 'TGK']);"
   ]
  },
  {
   "cell_type": "markdown",
   "metadata": {},
   "source": [
    "In many cases the data for a season is clearly separated from the data of other seasons. That should give a classifier a good chance to predict the season a datapoint belongs to.  \n",
    "We also see why the histograms of TMK, TXK and TGK have two peaks. Spring and autumn have quite similar wider spread temperatures. One peak is formed by the lower tempartures in winter, the other by higher temperatues during summer.\n",
    "\n",
    "There doesn't seem to be much snow in this region. Let's have a closer look at that."
   ]
  },
  {
   "cell_type": "code",
   "execution_count": 149,
   "metadata": {},
   "outputs": [
    {
     "data": {
      "text/plain": [
       "0.09172756828854864"
      ]
     },
     "execution_count": 149,
     "metadata": {},
     "output_type": "execute_result"
    }
   ],
   "source": [
    "clean.loc[clean.SHK_TAG > 0].SHK_TAG.count() / (clean.SHK_TAG.count())"
   ]
  },
  {
   "cell_type": "markdown",
   "metadata": {},
   "source": [
    "In 9% of the rows in our cleaned dataset the snow hight is above 0."
   ]
  },
  {
   "cell_type": "code",
   "execution_count": 150,
   "metadata": {},
   "outputs": [
    {
     "data": {
      "text/plain": [
       "Winter    13497\n",
       "Spring     2182\n",
       "Autumn      826\n",
       "Summer        0\n",
       "Name: SEASON, dtype: int64"
      ]
     },
     "execution_count": 150,
     "metadata": {},
     "output_type": "execute_result"
    }
   ],
   "source": [
    "clean.loc[clean.SHK_TAG > 0].SEASON.value_counts()"
   ]
  },
  {
   "cell_type": "code",
   "execution_count": 151,
   "metadata": {},
   "outputs": [
    {
     "data": {
      "text/plain": [
       "1     5771\n",
       "2     4682\n",
       "3     2043\n",
       "4      137\n",
       "5        2\n",
       "6        0\n",
       "7        0\n",
       "8        0\n",
       "9        0\n",
       "10       8\n",
       "11     818\n",
       "12    3044\n",
       "Name: MONTH, dtype: int64"
      ]
     },
     "execution_count": 151,
     "metadata": {},
     "output_type": "execute_result"
    }
   ],
   "source": [
    "clean.loc[clean.SHK_TAG > 0].MONTH.value_counts(sort=False)"
   ]
  },
  {
   "cell_type": "markdown",
   "metadata": {},
   "source": [
    "The most days with a snow are in the period December to March."
   ]
  },
  {
   "cell_type": "code",
   "execution_count": 152,
   "metadata": {},
   "outputs": [
    {
     "data": {
      "text/html": [
       "<div>\n",
       "<style scoped>\n",
       "    .dataframe tbody tr th:only-of-type {\n",
       "        vertical-align: middle;\n",
       "    }\n",
       "\n",
       "    .dataframe tbody tr th {\n",
       "        vertical-align: top;\n",
       "    }\n",
       "\n",
       "    .dataframe thead th {\n",
       "        text-align: right;\n",
       "    }\n",
       "</style>\n",
       "<table border=\"1\" class=\"dataframe\">\n",
       "  <thead>\n",
       "    <tr style=\"text-align: right;\">\n",
       "      <th></th>\n",
       "      <th>MESS_DATUM</th>\n",
       "      <th>RSK</th>\n",
       "      <th>RSKF</th>\n",
       "      <th>SDK</th>\n",
       "      <th>SHK_TAG</th>\n",
       "      <th>NM</th>\n",
       "      <th>VPM</th>\n",
       "      <th>PM</th>\n",
       "      <th>TMK</th>\n",
       "      <th>UPM</th>\n",
       "      <th>TXK</th>\n",
       "      <th>TNK</th>\n",
       "      <th>TGK</th>\n",
       "      <th>MONTH</th>\n",
       "      <th>SEASON</th>\n",
       "    </tr>\n",
       "  </thead>\n",
       "  <tbody>\n",
       "    <tr>\n",
       "      <th>120145</th>\n",
       "      <td>1979-02-18</td>\n",
       "      <td>0.0</td>\n",
       "      <td>0</td>\n",
       "      <td>NaN</td>\n",
       "      <td>63.0</td>\n",
       "      <td>7.3</td>\n",
       "      <td>4.4</td>\n",
       "      <td>NaN</td>\n",
       "      <td>-2.4</td>\n",
       "      <td>87.0</td>\n",
       "      <td>-1.5</td>\n",
       "      <td>-5.6</td>\n",
       "      <td>-7.2</td>\n",
       "      <td>2</td>\n",
       "      <td>Winter</td>\n",
       "    </tr>\n",
       "  </tbody>\n",
       "</table>\n",
       "</div>"
      ],
      "text/plain": [
       "       MESS_DATUM  RSK RSKF  SDK  SHK_TAG   NM  VPM  PM  TMK   UPM  TXK  TNK  \\\n",
       "120145 1979-02-18  0.0    0  NaN     63.0  7.3  4.4 NaN -2.4  87.0 -1.5 -5.6   \n",
       "\n",
       "        TGK MONTH  SEASON  \n",
       "120145 -7.2     2  Winter  "
      ]
     },
     "execution_count": 152,
     "metadata": {},
     "output_type": "execute_result"
    }
   ],
   "source": [
    "clean.query('SHK_TAG == SHK_TAG.max()')"
   ]
  },
  {
   "cell_type": "markdown",
   "metadata": {},
   "source": [
    "The maximum snow depth was measured in February 1979. That was a really [harsh winter in Germany](https://www.vintag.es/2021/01/1978-germany-blizzard.html).\n",
    "\n",
    ">This blizzard was just the beginning of the winter that crippled everything in Germany, for another round of snow and ice of similar proportions fell later on February 18/19, 1979."
   ]
  },
  {
   "cell_type": "code",
   "execution_count": 153,
   "metadata": {},
   "outputs": [],
   "source": [
    "# Store the data that will be used in the ML part\n",
    "clean.to_parquet('./data/cleaned_dataset.parquet')"
   ]
  }
 ],
 "metadata": {
  "kernelspec": {
   "display_name": "Python 3.10.6 ('nd025')",
   "language": "python",
   "name": "python3"
  },
  "language_info": {
   "codemirror_mode": {
    "name": "ipython",
    "version": 3
   },
   "file_extension": ".py",
   "mimetype": "text/x-python",
   "name": "python",
   "nbconvert_exporter": "python",
   "pygments_lexer": "ipython3",
   "version": "3.10.6"
  },
  "orig_nbformat": 4,
  "vscode": {
   "interpreter": {
    "hash": "6165426a138f4ec1527d2934a15d0dd4a521860b7576298db52c405e7cfef280"
   }
  }
 },
 "nbformat": 4,
 "nbformat_minor": 2
}
